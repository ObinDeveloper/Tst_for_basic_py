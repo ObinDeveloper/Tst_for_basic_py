{
  "nbformat": 4,
  "nbformat_minor": 0,
  "metadata": {
    "colab": {
      "provenance": [],
      "toc_visible": true,
      "include_colab_link": true
    },
    "kernelspec": {
      "name": "python3",
      "display_name": "Python 3"
    },
    "language_info": {
      "name": "python"
    }
  },
  "cells": [
    {
      "cell_type": "markdown",
      "metadata": {
        "id": "view-in-github",
        "colab_type": "text"
      },
      "source": [
        "<a href=\"https://colab.research.google.com/github/ObinDeveloper/Tst_for_basic_py/blob/main/Copy_of_Udacity_AI_Week2.ipynb\" target=\"_parent\"><img src=\"https://colab.research.google.com/assets/colab-badge.svg\" alt=\"Open In Colab\"/></a>"
      ]
    },
    {
      "cell_type": "markdown",
      "source": [
        "\n",
        "# Week 2\n"
      ],
      "metadata": {
        "id": "OE_ifaaADXpP"
      }
    },
    {
      "cell_type": "markdown",
      "source": [
        "\n",
        "# Data Variables and Operators\n",
        "\n",
        "Welcome to this lesson on Data Types and Operators! In this lesson, you will learn how to write basic Python statements using building blocks like the print statement, variables, and different data types.\n",
        "Here are the topics you'll learn about:\n",
        "\n",
        "* Data Types: Integers, Floats, Booleans, Strings\n",
        "* Operators: Arithmetic, Assignment, Comparison, Logical\n",
        "* Built-In Functions, Type Conversion\n",
        "* Whitespace and Style Guidelines\n"
      ],
      "metadata": {
        "id": "Ug4vFZsUTxY3"
      }
    },
    {
      "cell_type": "markdown",
      "source": [
        "**TASK 1**\n",
        "\n",
        "Using Basic operators in python, calculate number of 25 bills you need to pay for $212 dollors lunch. Also, calculate the reminder that you need to pay in 1 dollor bill.\n"
      ],
      "metadata": {
        "id": "nlUcp01PD3Lb"
      }
    },
    {
      "cell_type": "code",
      "source": [
        "total_cost = 212\n",
        "bill_denomination = 25\n",
        "\n",
        "num_bills = total_cost // bill_denomination\n",
        "remainder = total_cost % bill_denomination\n",
        "\n",
        "print(\"Number of $25 bills needed:\", num_bills)\n",
        "print(\"Remainder in $1 bills:\", remainder)"
      ],
      "metadata": {
        "id": "ZxPmfPW4Dt58",
        "outputId": "876b6d75-d987-42d5-a077-4bd926ef8acf",
        "colab": {
          "base_uri": "https://localhost:8080/"
        }
      },
      "execution_count": 1,
      "outputs": [
        {
          "output_type": "stream",
          "name": "stdout",
          "text": [
            "Number of $25 bills needed: 8\n",
            "Remainder in $1 bills: 12\n"
          ]
        }
      ]
    },
    {
      "cell_type": "markdown",
      "source": [
        "**TASK 2**\n",
        "\n",
        "Try the following codes and find out what is the main difference between these two operators?\n",
        "\n",
        "\n",
        "\n",
        "```\n",
        "11//24\n",
        "11/24\n",
        "11%24\n",
        "\n",
        "```\n",
        "\n"
      ],
      "metadata": {
        "id": "smwKGOe1Fu9y"
      }
    },
    {
      "cell_type": "code",
      "source": [
        "print(11 // 24)\n",
        "print(11 / 24)\n",
        "print(11 % 24)"
      ],
      "metadata": {
        "id": "ao8r0tNVGNML",
        "outputId": "d97d0c93-2be5-4c1f-afdb-f6fe30f12191",
        "colab": {
          "base_uri": "https://localhost:8080/"
        }
      },
      "execution_count": 2,
      "outputs": [
        {
          "output_type": "stream",
          "name": "stdout",
          "text": [
            "0\n",
            "0.4583333333333333\n",
            "11\n"
          ]
        }
      ]
    },
    {
      "cell_type": "markdown",
      "source": [
        "**TASK 3**\n",
        "\n",
        "Body Mass Index (BMI) is a measure of body fat based on height and weight that applies to adult men and women. Using variables, first create two variables as your weight(in kg) and height(in cm). Then calculate the BMI variable using the following formula and print the final value .\n",
        "\n",
        "\n",
        "\n",
        "```\n",
        "BMI = Weight(Kg)/(Height(m))**2\n",
        "```\n",
        "\n",
        "Do a quick search on internet and find out if your BMI is in the normal range or not!\n"
      ],
      "metadata": {
        "id": "FXHpzNOuGf6U"
      }
    },
    {
      "cell_type": "code",
      "source": [
        "weight = 70\n",
        "height_cm = 175\n",
        "\n",
        "height_m = height_cm / 100\n",
        "BMI = weight / (height_m ** 2)\n",
        "\n",
        "#output\n",
        "print(\"Your BMI is:\", BMI)"
      ],
      "metadata": {
        "id": "43XxBRQsHCu8",
        "outputId": "c041ad63-4ff5-4243-ed57-6e33e1b1190a",
        "colab": {
          "base_uri": "https://localhost:8080/"
        }
      },
      "execution_count": 3,
      "outputs": [
        {
          "output_type": "stream",
          "name": "stdout",
          "text": [
            "Your BMI is: 22.857142857142858\n"
          ]
        }
      ]
    },
    {
      "cell_type": "markdown",
      "source": [
        "**TASK 4**\n",
        "\n",
        "Using the TYPE() function , find out what is the type of your BMI value.\n",
        "\n",
        "In the imaginary world, your height is exactly 0.0 cm ! What is going to be your BMI value?"
      ],
      "metadata": {
        "id": "PYarBDKXHMMp"
      }
    },
    {
      "cell_type": "code",
      "source": [
        "type(BMI)"
      ],
      "metadata": {
        "id": "FsZe5OtTH6l4",
        "outputId": "c6c21db8-8ef7-4479-9195-d0207f70863e",
        "colab": {
          "base_uri": "https://localhost:8080/"
        }
      },
      "execution_count": 4,
      "outputs": [
        {
          "output_type": "execute_result",
          "data": {
            "text/plain": [
              "float"
            ]
          },
          "metadata": {},
          "execution_count": 4
        }
      ]
    },
    {
      "cell_type": "markdown",
      "source": [
        "**TASK 5**\n",
        "\n",
        "Using BMI variable you created in Task 3 and print True if your BMI is higher than 19 and less than 22, otherwise return False"
      ],
      "metadata": {
        "id": "ATlDwBTRIEJE"
      }
    },
    {
      "cell_type": "code",
      "source": [
        "result = 19 < BMI < 22\n",
        "print(result)"
      ],
      "metadata": {
        "id": "H87jUpmvPEUH",
        "colab": {
          "base_uri": "https://localhost:8080/"
        },
        "outputId": "4c83ac19-55a7-4a11-8f7b-ec6e4af22980"
      },
      "execution_count": 5,
      "outputs": [
        {
          "output_type": "stream",
          "name": "stdout",
          "text": [
            "False\n"
          ]
        }
      ]
    },
    {
      "cell_type": "markdown",
      "source": [
        "**TASK 6**\n",
        "\n",
        "Create a string variable with your full name like \"Amir Parizi\". Using indexing, create two variables , First name and Last name. What is the lenght of these three variables? Finally, print `\"My first name is {Firstname} and my last name is {Lastname}\"`"
      ],
      "metadata": {
        "id": "utnFSpINPFIs"
      }
    },
    {
      "cell_type": "code",
      "source": [
        "full_name = \"Obin Koffinguessan\"\n",
        "\n",
        "space_index = full_name.index(\" \")\n",
        "first_name = full_name[:space_index]\n",
        "last_name = full_name[space_index + 1:]\n",
        "\n",
        "\n",
        "length_full_name = len(full_name)\n",
        "length_first_name = len(first_name)\n",
        "length_last_name = len(last_name)\n",
        "\n",
        "\n",
        "print(\"The length of my fullname:\", length_full_name)\n",
        "print(\"the length of my firstname:\", length_first_name)\n",
        "print(\"the length of my lastname:\", length_last_name)\n",
        "\n",
        "\n",
        "print(f\"My firstname is {first_name} and my lastname is {last_name}\")"
      ],
      "metadata": {
        "id": "RnzOU_cVPpgj",
        "outputId": "826b7acf-e37b-411f-f698-e0be8f92e8e6",
        "colab": {
          "base_uri": "https://localhost:8080/"
        }
      },
      "execution_count": 7,
      "outputs": [
        {
          "output_type": "stream",
          "name": "stdout",
          "text": [
            "The length of my fullname: 18\n",
            "the length of my firstname: 4\n",
            "the length of my lastname: 13\n",
            "My firstname is Obin and my lastname is Koffinguessan\n"
          ]
        }
      ]
    },
    {
      "cell_type": "markdown",
      "source": [
        "**TASK 7**\n",
        "\n",
        "Create these three string variables:\n",
        "\n",
        "`Your First Name , Your Year of Birth , Your Country of origin`\n",
        "\n",
        "Using string methods you've learned, identify which variables are :    \n",
        "* Numeric valus\n",
        "* All characters in lower format\n",
        "* starts with \"19\"\n",
        "\n",
        "Again, using string methods, join all three variables into one variable and find how many \"a\"(s) are available in the final variable?\n",
        "\n",
        "Finally, use Format() function to print the following string:\n",
        "\n",
        "\n",
        "```\n",
        "\"My name is {} and I am from {}\"\n",
        "```\n",
        "\n"
      ],
      "metadata": {
        "id": "3DwAMiw5Ppzi"
      }
    },
    {
      "cell_type": "code",
      "source": [
        "first_name = \"Obin\"\n",
        "year_of_birth = \"1994\"\n",
        "country_of_origin = \"Ivory Coast\"\n",
        "\n",
        "\n",
        "is_year_numeric = year_of_birth.isnumeric()\n",
        "is_first_name_numeric = first_name.isnumeric()\n",
        "is_country_numeric = country_of_origin.isnumeric()\n",
        "\n",
        "# Check if variables are all lowercase\n",
        "is_first_name_lower = first_name.islower()\n",
        "is_year_lower = year_of_birth.islower()\n",
        "is_country_lower = country_of_origin.islower()\n",
        "\n",
        "\n",
        "starts_with_19 = year_of_birth.startswith(\"19\")\n",
        "\n",
        "# Print results for clarity\n",
        "print(\"Is year_of_birth numeric:\", is_year_numeric)\n",
        "print(\"Is first_name numeric:\", is_first_name_numeric)\n",
        "print(\"Is country_of_origin numeric:\", is_country_numeric)\n",
        "print(\"Is first_name in lowercase:\", is_first_name_lower)\n",
        "print(\"Is year_of_birth in lowercase:\", is_year_lower)\n",
        "print(\"Is country_of_origin in lowercase:\", is_country_lower)\n",
        "print(\"Does year_of_birth start with '19':\", starts_with_19)\n",
        "\n",
        "# Step 3: Join the three variables into one variable\n",
        "combined_string = \" \".join([first_name, year_of_birth, country_of_origin])\n",
        "\n",
        "# Step 4: Count occurrences of the letter \"a\" in the combined string\n",
        "count_a = combined_string.lower().count(\"a\")\n",
        "\n",
        "# Step 5: Use the format() function to print the desired output\n",
        "print(f\"My name is {first_name} and I am from {country_of_origin}\")"
      ],
      "metadata": {
        "id": "kxUAovNrTfTD",
        "colab": {
          "base_uri": "https://localhost:8080/"
        },
        "outputId": "090ca527-4333-441e-ee30-15d5831ab550"
      },
      "execution_count": 8,
      "outputs": [
        {
          "output_type": "stream",
          "name": "stdout",
          "text": [
            "Is year_of_birth numeric: True\n",
            "Is first_name numeric: False\n",
            "Is country_of_origin numeric: False\n",
            "Is first_name in lowercase: False\n",
            "Is year_of_birth in lowercase: False\n",
            "Is country_of_origin in lowercase: False\n",
            "Does year_of_birth start with '19': True\n",
            "My name is Obin and I am from Ivory Coast\n"
          ]
        }
      ]
    },
    {
      "cell_type": "markdown",
      "source": [
        "**TASK 8**\n",
        "\n",
        "Lets take a look at Hackerrank website and see what we can do to practice more!\n",
        "\n",
        "https://www.hackerrank.com/challenges/python-arithmetic-operators/problem?isFullScreen=true\n",
        "\n",
        "https://www.hackerrank.com/challenges/py-if-else/problem?isFullScreen=true\n",
        "\n",
        "https://www.hackerrank.com/challenges/python-division/problem?isFullScreen=true\n",
        "\n",
        "https://www.hackerrank.com/challenges/python-string-split-and-join/problem?isFullScreen=true\n",
        "\n",
        "https://www.hackerrank.com/challenges/capitalize/problem?isFullScreen=true"
      ],
      "metadata": {
        "id": "nUVbBwsmtQ4M"
      }
    },
    {
      "cell_type": "markdown",
      "source": [],
      "metadata": {
        "id": "nc8T7IeUTwm3"
      }
    },
    {
      "cell_type": "markdown",
      "source": [
        "# Data Structure\n",
        "\n",
        "Welcome to this lesson on data structures! In the previous lesson, you learned about many of the basic building blocks, including data types, for programming in Python. In this lesson, you will learn to make use of new data structures, which group and order data in different ways, to help you solve problems.\n",
        "Specifically, you'll learn about:\n",
        "\n",
        "* Types of Data Structures: Lists, Tuples, Sets, Dictionaries, Compound Data Structures\n",
        "* Operators: Membership, Identity\n",
        "* Built-In Functions and Methods"
      ],
      "metadata": {
        "id": "T9YK47H6Th6P"
      }
    },
    {
      "cell_type": "markdown",
      "source": [
        "**TASK 1**\n",
        "\n",
        "Create a list of four items and then print:\n",
        "* First item\n",
        "* last item\n",
        "* second item to the end of the list\n",
        "* lenght of the list\n",
        "* add your name to the end of the list\n",
        "* change the first value to TRUE\n",
        "* add your name to the begining of the list"
      ],
      "metadata": {
        "id": "8Ni6vuPzvA6Y"
      }
    },
    {
      "cell_type": "markdown",
      "source": [],
      "metadata": {
        "id": "mHlQVlXSTfoa"
      }
    },
    {
      "cell_type": "code",
      "source": [],
      "metadata": {
        "id": "zX2o2Dmzs_4_"
      },
      "execution_count": null,
      "outputs": []
    },
    {
      "cell_type": "markdown",
      "source": [
        "**TASK 2**\n",
        "\n",
        "Create a following list : `[1,3,2,10,-10,4]` . Using functions in list:\n",
        "\n",
        "I) sort the list from the largest value to the smallest value\n",
        "\n",
        "II) calculate the min,max and average value of the list.\n",
        "\n",
        "III) print all values in one line with a space between each number\n",
        "\n",
        "IV) Add number 7 to the list and recalculate the average"
      ],
      "metadata": {
        "id": "bJ0BSIbMyffm"
      }
    },
    {
      "cell_type": "code",
      "source": [],
      "metadata": {
        "id": "-I1q2WRiyeo6"
      },
      "execution_count": null,
      "outputs": []
    },
    {
      "cell_type": "markdown",
      "source": [
        "**TASK 3**\n",
        "\n",
        "What would the output of the following code be?\n",
        "\n",
        "\n",
        "```\n",
        "a = [1, 2, 2, 3, 3, 3, 4, 4, 4, 4]\n",
        "\n",
        "b = set(a)\n",
        "b.add(5)\n",
        "b.pop()\n",
        "\n",
        "print(b)\n",
        "print(len(a) - len(b))\n",
        "```\n",
        "\n"
      ],
      "metadata": {
        "id": "bTRK8TGjzw4a"
      }
    },
    {
      "cell_type": "code",
      "source": [],
      "metadata": {
        "id": "eTQzpGR50qMz"
      },
      "execution_count": null,
      "outputs": []
    },
    {
      "cell_type": "markdown",
      "source": [
        "**TASK 4**\n",
        "\n",
        "What would the output of the following code be? (Treat the commas in the multiple choice answers as newlines.)\n",
        "\n",
        "```\n",
        "\n",
        "tuple_a = 1, 2\n",
        "tuple_b = (1, 2)\n",
        "\n",
        "print(tuple_a == tuple_b)\n",
        "print(tuple_a[1])\n",
        "\n",
        "print(tuple_b[1]==3)\n",
        "print(tuple_b[1]=3)\n",
        "\n",
        "```"
      ],
      "metadata": {
        "id": "kKHvlWd00rI9"
      }
    },
    {
      "cell_type": "code",
      "source": [],
      "metadata": {
        "id": "eh9XLLQb1eR8"
      },
      "execution_count": null,
      "outputs": []
    },
    {
      "cell_type": "markdown",
      "source": [
        "**TASK 5**\n",
        "\n",
        "Create the following dictionary :    \n",
        "\n",
        "```\n",
        "elements = {'hydrogen': {'number': 1, 'weight': 1.00794, 'symbol': 'H'},\n",
        "            'helium': {'number': 2, 'weight': 4.002602, 'symbol': 'He'}}\n",
        "```\n",
        "\n",
        "add another element to the dictionary with the following properties:\n",
        "\n",
        "\n",
        "```\n",
        "Name:Oxygen , Number:8 , Weight: 16.008 , Symbol : O\n",
        "```\n",
        "Using the dictionary:\n",
        "\n",
        "I) Calculate the weight of the H2O\n",
        "\n",
        "II) Calculate the weight ratio of He to H2O\n",
        "\n",
        "III) What would the output of the following code be?\n",
        "\n",
        "\n",
        "```\n",
        "print(elements.get(\"Carbon\"))\n",
        "```\n",
        "\n",
        "IV) Create two lists of only values and only keys in the elements\n",
        "\n",
        "\n",
        "\n",
        "\n",
        "\n",
        "\n"
      ],
      "metadata": {
        "id": "LV6k_YLc1ext"
      }
    },
    {
      "cell_type": "code",
      "source": [],
      "metadata": {
        "id": "jPn_VzoQ3hTn"
      },
      "execution_count": null,
      "outputs": []
    },
    {
      "cell_type": "markdown",
      "source": [
        "**TASK 6**\n",
        "\n",
        "You have the following list of values :    \n",
        "\n",
        "\n",
        "```\n",
        "[1,2,3,2,1,5,2,4,2,2,3,6]\n",
        "```\n",
        "\n",
        "Your task is to count each value in the list and put it in the dictionary in the following format:\n",
        "\n",
        "\n",
        "\n",
        "```\n",
        "{Value: Count of the value}\n",
        "```\n",
        "\n",
        "How would you approach this task using \"FOR\" loop (You can do a quick search online)\n",
        "\n",
        "\n",
        "\n"
      ],
      "metadata": {
        "id": "3kt10gbo5oVF"
      }
    },
    {
      "cell_type": "code",
      "source": [],
      "metadata": {
        "id": "UnbvAQz06Xej"
      },
      "execution_count": null,
      "outputs": []
    },
    {
      "cell_type": "markdown",
      "source": [
        "**TASK 7**\n",
        "\n",
        "Lets take a look at Hackerrank website and see what we can do to practice more!\n",
        "\n",
        "https://www.hackerrank.com/challenges/python-lists/problem?isFullScreen=true\n",
        "\n",
        "https://www.hackerrank.com/challenges/find-second-maximum-number-in-a-list/problem?isFullScreen=true\n",
        "\n"
      ],
      "metadata": {
        "id": "FHJIv0y03i92"
      }
    }
  ]
}